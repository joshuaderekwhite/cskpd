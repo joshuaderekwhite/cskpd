{
 "cells": [
  {
   "cell_type": "code",
   "execution_count": 3,
   "metadata": {},
   "outputs": [],
   "source": [
    "from cskpd import *\n",
    "from interface import *\n",
    "from statsmodels.genmod.families.links import Logit\n",
    "import numpy as np\n",
    "import time\n",
    "import pandas as pd\n",
    "import matplotlib.pyplot as plt\n",
    "import seaborn as sns"
   ]
  },
  {
   "cell_type": "code",
   "execution_count": 4,
   "metadata": {},
   "outputs": [],
   "source": [
    "g = Logit()\n",
    "C_true = np.load(\"Examples/circles.npy\")\n",
    "np.random.seed(539)\n",
    "## image shape\n",
    "img_shape_m,img_shape_n,img_shape_d = 128,128,1\n",
    "## sample size \n",
    "N = 1000\n",
    "## noise level\n",
    "sigma = 3\n",
    "epsilon = np.random.normal(0,1,N) * sigma\n",
    "X = np.random.normal(0,1,[N, img_shape_m, img_shape_n, img_shape_d]).squeeze()\n",
    "Y = np.round(g.inverse(np.tensordot(X, C_true, axes=([1,2], [0,1])) + epsilon),0)"
   ]
  },
  {
   "cell_type": "code",
   "execution_count": null,
   "metadata": {},
   "outputs": [
    {
     "name": "stdout",
     "output_type": "stream",
     "text": [
      "-------start parallel computing-----------\n",
      "MBIC values:  [8258.320284693737, 8579.23936896393, 8614.699233573981, 7889.568984852502, 8095.545416202606, 7770.602874326955, 7381.654300520428, 7209.922195322913, 7046.588238439378]\n"
     ]
    }
   ],
   "source": [
    "## lambda 1 candidate, corresponds to the lambda in the paper\n",
    "lmbda_set = [0.4,0.6,1]\n",
    "## We set lambda2 equals 0 all the time in the paper.\n",
    "lmbda2_set = [0]\n",
    "## tuning R in this candidate set\n",
    "## We refer to implement R = 1 first when smaple size is limited\n",
    "R_list = [1,2,3]\n",
    "n_cores = 4\n",
    "## the dim of underlying C is (D1,D2,D3), which satisfies D1 = p1 * d1, D2 = p2 * d2 and D3 = p3 * d3 \n",
    "p_list = [[16,16]]\n",
    "d_list = [[8,8]]\n",
    "input_params = {\n",
    "    \"p_list\":p_list,\n",
    "    \"d_list\":d_list,\n",
    "    \"lmbda_set\":lmbda_set,\n",
    "    \"lmbda2_set\":lmbda2_set,\n",
    "    ## Z_train is None, when not consider covariate\n",
    "    \"Z_train\":None,\n",
    "    \"X_train\":X,\n",
    "    \"Y_train\":g(Y),\n",
    "    ## n_cores is the number of cores for parallel computing, when n_cores = None, we only use a single core in our paper\n",
    "    ## you can use n_cores > 1 for accelerating your computing\n",
    "    \"R_list\":R_list, \"n_cores\":n_cores,\"max_iter\":20,\"print_iter\":30}\n",
    "    # p_list,d_list,lmbda_set,lmbda2_set,Z_train,X_train,Y_train,R_list,n_cores = -1,max_iter = 20,print_iter = 5, cuda=False\n",
    "a_hat,b_hat,gamma_hat,lmbda_1,lmbda_2,R,p,d = skpdRegressor(**input_params)"
   ]
  },
  {
   "cell_type": "code",
   "execution_count": 6,
   "metadata": {},
   "outputs": [
    {
     "data": {
      "text/plain": [
       "array([[ 0.],\n",
       "       [-0.],\n",
       "       [ 0.],\n",
       "       [-0.]])"
      ]
     },
     "execution_count": 6,
     "metadata": {},
     "output_type": "execute_result"
    }
   ],
   "source": [
    "a_hat[:4]"
   ]
  },
  {
   "cell_type": "code",
   "execution_count": 7,
   "metadata": {},
   "outputs": [
    {
     "data": {
      "text/plain": [
       "False"
      ]
     },
     "execution_count": 7,
     "metadata": {},
     "output_type": "execute_result"
    }
   ],
   "source": [
    "np.all(np.isclose(a_hat[:4], np.array([[-0.        ],\n",
    "       [-1.54229406],\n",
    "       [-2.59254686],\n",
    "       [14.64212964]]), atol=1e-4))"
   ]
  },
  {
   "cell_type": "code",
   "execution_count": 8,
   "metadata": {},
   "outputs": [
    {
     "data": {
      "image/png": "[encoded data removed]",
      "text/plain": [
       "<Figure size 800x400 with 3 Axes>"
      ]
     },
     "metadata": {},
     "output_type": "display_data"
    }
   ],
   "source": [
    "def RMSE_C(C_hat,C):\n",
    "    ## estimation error in statistics\n",
    "    d1,d2 = C.shape\n",
    "    c1 = C_hat.reshape(d1*d2,-1)\n",
    "    c2 = C.reshape(d1*d2,-1)\n",
    "    res = la.norm(c1.squeeze()-c2.squeeze(),2) / np.sqrt(d1 *d2)\n",
    "    return res\n",
    "def RMSE_tensor(C_hat,C):\n",
    "    m,n,d = C.shape\n",
    "    c1 = C_hat.reshape(m*n*d,-1)\n",
    "    c2 = C.reshape(m*n*d,-1)\n",
    "    res = la.norm(c1.squeeze()-c2.squeeze(),2) / np.sqrt(m*n*d)\n",
    "    return res\n",
    "def error(beta_hat,beta,th = 0):\n",
    "    ## non-threshold version\n",
    "    ## return typeI error and Power\n",
    "    # rmse_c = RMSE_C(beta_hat,beta)\n",
    "    _len = beta.shape\n",
    "    if len(_len)== 2:\n",
    "        rmse_c = RMSE_C(beta_hat,beta)\n",
    "        m,n = beta.shape\n",
    "    else:\n",
    "        rmse_c = RMSE_tensor(beta_hat,beta)\n",
    "        m,n,d = beta.shape\n",
    "    beta =  np.where(np.abs(beta) == 0 ,beta,1)\n",
    "    beta_hat = np.asarray(beta_hat)\n",
    "    if th == 0:\n",
    "        tmp = np.where(np.abs(beta_hat) == 0 ,beta_hat,1)\n",
    "    else:\n",
    "        tmp = np.where(np.abs(beta_hat) > th,beta_hat,0)\n",
    "        tmp = np.where(np.abs(tmp) < th,tmp,1)\n",
    "    diff = beta - tmp\n",
    "    mul = beta * tmp\n",
    "    typeI = np.where(diff == -1)[0].shape[0]/np.where(beta == 0)[0].shape[0]\n",
    "    Power = np.where(mul == 1)[0].shape[0]/np.where(beta == 1)[0].shape[0]\n",
    "    return typeI,Power,rmse_c\n",
    "\n",
    "A,B,kron_ab = func_kron_ab(a_hat,b_hat,R,p,d)\n",
    "C_hat = kron_ab[-1]\n",
    "\n",
    "def fun_normalization(data):\n",
    "    data = np.abs(data)\n",
    "    _range = np.max(data) - np.min(data)\n",
    "    return (data - np.min(data)) / _range\n",
    "\n",
    "plt.figure(figsize= (8,4))\n",
    "ax = plt.subplot(1,2,1)\n",
    "sns.heatmap(fun_normalization(C_true),cmap = \"rainbow\",cbar = False)\n",
    "ax.set_xticks([])\n",
    "ax.set_yticks([])\n",
    "ax = plt.subplot(1,2,2)\n",
    "sns.heatmap(fun_normalization(C_hat),cmap = \"rainbow\",cbar = True)\n",
    "ax.set_xticks([])\n",
    "ax.set_yticks([])\n",
    "plt.show()"
   ]
  },
  {
   "cell_type": "code",
   "execution_count": 45,
   "metadata": {},
   "outputs": [],
   "source": [
    "R = 3\n",
    "Rx = [Rearrange(x,p_list[0],d_list[0]) for x in X]\n",
    "A, _, _ = la.svd(sum([Y[i] * Rx[i] for i in range(len(Rx))]))\n",
    "A = A[:, :R]"
   ]
  },
  {
   "cell_type": "code",
   "execution_count": 66,
   "metadata": {},
   "outputs": [
    {
     "name": "stdout",
     "output_type": "stream",
     "text": [
      "7.224965333938599\n",
      "(128, 128)\n",
      "2.4424281120300293\n",
      "(128, 128)\n",
      "2.443833589553833\n",
      "(128, 128)\n",
      "2.4240126609802246\n",
      "(128, 128)\n",
      "2.412666082382202\n",
      "(128, 128)\n"
     ]
    }
   ],
   "source": [
    "from scipy.optimize import minimize, least_squares\n",
    "from scipy.linalg import norm, qr\n",
    "def b_next_iter(B,y,X,A):\n",
    "    tot = 0\n",
    "    for i in range(len(y)):\n",
    "        # print(X[i].T.shape, A.shape, np.ravel(X[i].T @ A).shape, B.shape, np.ravel(B).T.shape)\n",
    "        tot += y[i] - np.ravel(B).T @ np.ravel(X[i].T @ A)\n",
    "    return 1/(2*len(y)) * tot**2\n",
    "def a_next_iter(A,y,X,B,lmbda):\n",
    "    tot = 0\n",
    "    for i in range(len(y)):\n",
    "        # print(X[i].shape, B.shape, np.ravel(X[i] @ B.T).shape, A.shape, np.ravel(A).T.shape)\n",
    "        tot += y[i] - np.ravel(A).T @ np.ravel(X[i] @ B)\n",
    "    return 1/(2*len(y)) * tot**2 + lmbda * norm(A, 1)\n",
    "\n",
    "T = 5\n",
    "B = np.ones((64, R))\n",
    "lmbda = 0.4\n",
    "kappa = 0.5\n",
    "for i in range(T):\n",
    "    tic = time.time()\n",
    "    B = minimize(b_next_iter, np.ravel(B), args=(Y,Rx,A), method='BFGS').x.reshape(B.shape)\n",
    "    toc = time.time()\n",
    "    print(toc-tic)\n",
    "    lmbda = lmbda * kappa * norm(B, ord='fro')\n",
    "    # A = qr(minimize(a_next_iter, np.ravel(A), args=(Y,Rx,B,lmbda), method='L-BFGS-B', options={'maxiter': 5}).x.reshape(A.shape), mode='economic')[0]\n",
    "    C = (A @ B.T).reshape(X[0].shape)\n",
    "    print(C.shape)"
   ]
  },
  {
   "cell_type": "code",
   "execution_count": 67,
   "metadata": {},
   "outputs": [
    {
     "data": {
      "image/png": "[encoded data removed]",
      "text/plain": [
       "<Figure size 800x400 with 3 Axes>"
      ]
     },
     "metadata": {},
     "output_type": "display_data"
    }
   ],
   "source": [
    "plt.figure(figsize= (8,4))\n",
    "ax = plt.subplot(1,2,1)\n",
    "sns.heatmap(fun_normalization(C_true),cmap = \"rainbow\",cbar = False)\n",
    "ax.set_xticks([])\n",
    "ax.set_yticks([])\n",
    "ax = plt.subplot(1,2,2)\n",
    "sns.heatmap(fun_normalization(C),cmap = \"rainbow\",cbar = True)\n",
    "ax.set_xticks([])\n",
    "ax.set_yticks([])\n",
    "plt.show()"
   ]
  },
  {
   "cell_type": "code",
   "execution_count": 16,
   "metadata": {},
   "outputs": [
    {
     "data": {
      "text/plain": [
       "(256, 256)"
      ]
     },
     "execution_count": 16,
     "metadata": {},
     "output_type": "execute_result"
    }
   ],
   "source": [
    "np.squeeze"
   ]
  },
  {
   "cell_type": "code",
   "execution_count": 14,
   "metadata": {},
   "outputs": [
    {
     "data": {
      "text/plain": [
       "(128, 128)"
      ]
     },
     "execution_count": 14,
     "metadata": {},
     "output_type": "execute_result"
    }
   ],
   "source": [
    "X[0].shape"
   ]
  },
  {
   "cell_type": "code",
   "execution_count": 32,
   "metadata": {},
   "outputs": [],
   "source": [
    "b_vec_ls = least_squares(lambda b: b_next_iter(b,Y,Rx,A), B_vec)"
   ]
  }
 ],
 "metadata": {
  "kernelspec": {
   "display_name": "brain",
   "language": "python",
   "name": "python3"
  },
  "language_info": {
   "codemirror_mode": {
    "name": "ipython",
    "version": 3
   },
   "file_extension": ".py",
   "mimetype": "text/x-python",
   "name": "python",
   "nbconvert_exporter": "python",
   "pygments_lexer": "ipython3",
   "version": "3.10.13"
  }
 },
 "nbformat": 4,
 "nbformat_minor": 2
}
